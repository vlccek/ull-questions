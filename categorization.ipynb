{
 "cells": [
  {
   "cell_type": "code",
   "id": "initial_id",
   "metadata": {
    "collapsed": true,
    "ExecuteTime": {
     "end_time": "2025-09-13T21:15:23.090276Z",
     "start_time": "2025-09-13T21:15:22.013797Z"
    }
   },
   "source": "",
   "outputs": [
    {
     "name": "stdout",
     "output_type": "stream",
     "text": [
      "Chyba: Vstupní soubor 'otazky.json' nebyl nalezen.\n",
      "Vytvářím ukázkový soubor 'otazky.json' pro demonstraci.\n",
      "Nalezeno 1 otázek. Již zpracováno: 0.\n",
      "Zpracovávám otázku 1/1: \"Do jaké výšky lze počítat s „přízemním efektem“ v ...\"\n",
      "Nastala chyba při komunikaci s API pro otázku: 'Do jaké výšky lze počítat s „přízemním efektem“ v blízkosti země?'. Chyba: Models.generate_content() got an unexpected keyword argument 'generation_config'\n",
      "Detail chyby od API: Žádná odpověď\n",
      "--------------------\n",
      "Zpracování dokončeno. Obohacené otázky byly uloženy do souboru 'otazky_obohatene.json'.\n"
     ]
    }
   ],
   "execution_count": 4
  },
  {
   "metadata": {},
   "cell_type": "code",
   "outputs": [],
   "execution_count": null,
   "source": "",
   "id": "b4dec5223aac87fb"
  }
 ],
 "metadata": {
  "kernelspec": {
   "display_name": "Python 3",
   "language": "python",
   "name": "python3"
  },
  "language_info": {
   "codemirror_mode": {
    "name": "ipython",
    "version": 2
   },
   "file_extension": ".py",
   "mimetype": "text/x-python",
   "name": "python",
   "nbconvert_exporter": "python",
   "pygments_lexer": "ipython2",
   "version": "2.7.6"
  }
 },
 "nbformat": 4,
 "nbformat_minor": 5
}
