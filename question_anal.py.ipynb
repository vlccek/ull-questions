{
 "cells": [
  {
   "cell_type": "code",
   "id": "initial_id",
   "metadata": {
    "collapsed": true,
    "ExecuteTime": {
     "end_time": "2025-09-05T14:20:59.072741Z",
     "start_time": "2025-09-05T14:20:58.590514Z"
    }
   },
   "source": [
    "import os\n",
    "import json\n",
    "import polars as pl\n",
    "\n",
    "# Název složky, kde jsou uloženy JSON soubory s testy\n",
    "directory_path = 'parsed_tests'\n",
    "\n",
    "# Seznam pro ukládání všech otázek ze všech souborů\n",
    "all_questions = []\n",
    "\n",
    "\n",
    "# Procházení všech souborů v dané složce\n",
    "print(f\"Prohledávám složku: '{directory_path}'...\")\n",
    "for filename in os.listdir(directory_path):\n",
    "    # Zpracováváme pouze soubory s příponou .json\n",
    "    if filename.endswith('.json'):\n",
    "        file_path = os.path.join(directory_path, filename)\n",
    "\n",
    "        # Otevření a načtení JSON souboru\n",
    "        with open(file_path, 'r', encoding='utf-8') as f:\n",
    "            try:\n",
    "                data = json.load(f)\n",
    "\n",
    "                # Získání data testu\n",
    "                test_date = data.get('datum_testu')\n",
    "                questions = data.get('prehled_otazek', [])\n",
    "\n",
    "                # Přidání data testu ke každé otázce a přidání do celkového seznamu\n",
    "                for question in questions:\n",
    "                    question['datum_testu'] = test_date\n",
    "                    all_questions.append(question)\n",
    "\n",
    "            except json.JSONDecodeError:\n",
    "                print(f\"Chyba při parsování souboru: {filename}\")\n",
    "            except Exception as e:\n",
    "                print(f\"Naskytla se neočekávaná chyba u souboru {filename}: {e}\")\n",
    "\n",
    "\n",
    "# Vytvoření Polars DataFrame ze seznamu všech otázek\n",
    "if all_questions:\n",
    "    df = pl.DataFrame(all_questions)\n",
    "\n",
    "    # Převedení sloupce 'moznosti' z dict na struct pro lepší manipulaci v Polars\n",
    "    # a datum_testu na datový typ Date\n",
    "    df = df.with_columns(\n",
    "        pl.col(\"moznosti\").cast(pl.Struct([\n",
    "            pl.Field(\"A\", pl.Utf8),\n",
    "            pl.Field(\"B\", pl.Utf8),\n",
    "            pl.Field(\"C\", pl.Utf8)\n",
    "        ])),\n",
    "        pl.col(\"datum_testu\").str.to_date(\"%d.%m.%Y\", strict=False)\n",
    "    )\n",
    "\n",
    "    # Zobrazení prvních několika řádků a schématu DataFrame\n",
    "    print(\"\\nÚspěšně načteno a zpracováno:\")\n",
    "    print(f\"Celkový počet otázek: {len(df)}\")\n",
    "    print(\"\\nSchéma DataFrame:\")\n",
    "    print(df.schema)\n",
    "else:\n",
    "    print(\"\\nNebyly nalezeny žádné otázky k načtení.\")\n",
    "\n",
    "\n",
    "print(f\"Testy v rozsahu: {max(df['datum_testu'])} - {min(df['datum_testu'])}\")\n",
    "df"
   ],
   "outputs": [
    {
     "name": "stdout",
     "output_type": "stream",
     "text": [
      "Prohledávám složku: 'parsed_tests'...\n",
      "Naskytla se neočekávaná chyba u souboru test_966032.json: 'NoneType' object has no attribute 'get'\n",
      "Naskytla se neočekávaná chyba u souboru test_966033.json: 'NoneType' object has no attribute 'get'\n",
      "Naskytla se neočekávaná chyba u souboru test_966034.json: 'NoneType' object has no attribute 'get'\n",
      "Naskytla se neočekávaná chyba u souboru test_966035.json: 'NoneType' object has no attribute 'get'\n",
      "Naskytla se neočekávaná chyba u souboru test_966036.json: 'NoneType' object has no attribute 'get'\n",
      "Naskytla se neočekávaná chyba u souboru test_966037.json: 'NoneType' object has no attribute 'get'\n",
      "Naskytla se neočekávaná chyba u souboru test_966038.json: 'NoneType' object has no attribute 'get'\n",
      "Naskytla se neočekávaná chyba u souboru test_966039.json: 'NoneType' object has no attribute 'get'\n",
      "Naskytla se neočekávaná chyba u souboru test_966040.json: 'NoneType' object has no attribute 'get'\n",
      "Naskytla se neočekávaná chyba u souboru test_966041.json: 'NoneType' object has no attribute 'get'\n",
      "Naskytla se neočekávaná chyba u souboru test_966042.json: 'NoneType' object has no attribute 'get'\n",
      "Naskytla se neočekávaná chyba u souboru test_966043.json: 'NoneType' object has no attribute 'get'\n",
      "Naskytla se neočekávaná chyba u souboru test_966044.json: 'NoneType' object has no attribute 'get'\n",
      "Naskytla se neočekávaná chyba u souboru test_966045.json: 'NoneType' object has no attribute 'get'\n",
      "Naskytla se neočekávaná chyba u souboru test_966046.json: 'NoneType' object has no attribute 'get'\n",
      "Naskytla se neočekávaná chyba u souboru test_966047.json: 'NoneType' object has no attribute 'get'\n",
      "Naskytla se neočekávaná chyba u souboru test_966048.json: 'NoneType' object has no attribute 'get'\n",
      "Naskytla se neočekávaná chyba u souboru test_966049.json: 'NoneType' object has no attribute 'get'\n",
      "Naskytla se neočekávaná chyba u souboru test_966065.json: 'NoneType' object has no attribute 'get'\n",
      "Naskytla se neočekávaná chyba u souboru test_966066.json: 'NoneType' object has no attribute 'get'\n",
      "Naskytla se neočekávaná chyba u souboru test_966067.json: 'NoneType' object has no attribute 'get'\n",
      "Naskytla se neočekávaná chyba u souboru test_966068.json: 'NoneType' object has no attribute 'get'\n",
      "Naskytla se neočekávaná chyba u souboru test_966069.json: 'NoneType' object has no attribute 'get'\n",
      "Naskytla se neočekávaná chyba u souboru test_966070.json: 'NoneType' object has no attribute 'get'\n",
      "Naskytla se neočekávaná chyba u souboru test_966071.json: 'NoneType' object has no attribute 'get'\n",
      "Naskytla se neočekávaná chyba u souboru test_966072.json: 'NoneType' object has no attribute 'get'\n",
      "Naskytla se neočekávaná chyba u souboru test_966073.json: 'NoneType' object has no attribute 'get'\n",
      "Naskytla se neočekávaná chyba u souboru test_966074.json: 'NoneType' object has no attribute 'get'\n",
      "Naskytla se neočekávaná chyba u souboru test_966075.json: 'NoneType' object has no attribute 'get'\n",
      "Naskytla se neočekávaná chyba u souboru test_966076.json: 'NoneType' object has no attribute 'get'\n",
      "Naskytla se neočekávaná chyba u souboru test_966077.json: 'NoneType' object has no attribute 'get'\n",
      "Naskytla se neočekávaná chyba u souboru test_966078.json: 'NoneType' object has no attribute 'get'\n",
      "Naskytla se neočekávaná chyba u souboru test_966079.json: 'NoneType' object has no attribute 'get'\n",
      "Naskytla se neočekávaná chyba u souboru test_966080.json: 'NoneType' object has no attribute 'get'\n",
      "Naskytla se neočekávaná chyba u souboru test_966081.json: 'NoneType' object has no attribute 'get'\n",
      "Naskytla se neočekávaná chyba u souboru test_966082.json: 'NoneType' object has no attribute 'get'\n",
      "Naskytla se neočekávaná chyba u souboru test_966083.json: 'NoneType' object has no attribute 'get'\n",
      "Naskytla se neočekávaná chyba u souboru test_966084.json: 'NoneType' object has no attribute 'get'\n",
      "Naskytla se neočekávaná chyba u souboru test_966085.json: 'NoneType' object has no attribute 'get'\n",
      "Naskytla se neočekávaná chyba u souboru test_966086.json: 'NoneType' object has no attribute 'get'\n",
      "Naskytla se neočekávaná chyba u souboru test_966087.json: 'NoneType' object has no attribute 'get'\n",
      "Naskytla se neočekávaná chyba u souboru test_966088.json: 'NoneType' object has no attribute 'get'\n",
      "Naskytla se neočekávaná chyba u souboru test_966089.json: 'NoneType' object has no attribute 'get'\n",
      "Naskytla se neočekávaná chyba u souboru test_966090.json: 'NoneType' object has no attribute 'get'\n",
      "Naskytla se neočekávaná chyba u souboru test_966091.json: 'NoneType' object has no attribute 'get'\n",
      "Naskytla se neočekávaná chyba u souboru test_966092.json: 'NoneType' object has no attribute 'get'\n",
      "Naskytla se neočekávaná chyba u souboru test_966093.json: 'NoneType' object has no attribute 'get'\n",
      "Naskytla se neočekávaná chyba u souboru test_966094.json: 'NoneType' object has no attribute 'get'\n",
      "Naskytla se neočekávaná chyba u souboru test_966095.json: 'NoneType' object has no attribute 'get'\n",
      "Naskytla se neočekávaná chyba u souboru test_966096.json: 'NoneType' object has no attribute 'get'\n",
      "Naskytla se neočekávaná chyba u souboru test_966097.json: 'NoneType' object has no attribute 'get'\n",
      "Naskytla se neočekávaná chyba u souboru test_966098.json: 'NoneType' object has no attribute 'get'\n",
      "Naskytla se neočekávaná chyba u souboru test_966099.json: 'NoneType' object has no attribute 'get'\n",
      "Naskytla se neočekávaná chyba u souboru test_966110.json: 'NoneType' object has no attribute 'get'\n",
      "Naskytla se neočekávaná chyba u souboru test_966111.json: 'NoneType' object has no attribute 'get'\n",
      "Naskytla se neočekávaná chyba u souboru test_966112.json: 'NoneType' object has no attribute 'get'\n",
      "Naskytla se neočekávaná chyba u souboru test_966113.json: 'NoneType' object has no attribute 'get'\n",
      "Naskytla se neočekávaná chyba u souboru test_966114.json: 'NoneType' object has no attribute 'get'\n",
      "Naskytla se neočekávaná chyba u souboru test_966115.json: 'NoneType' object has no attribute 'get'\n",
      "Naskytla se neočekávaná chyba u souboru test_966116.json: 'NoneType' object has no attribute 'get'\n",
      "Naskytla se neočekávaná chyba u souboru test_966117.json: 'NoneType' object has no attribute 'get'\n",
      "Naskytla se neočekávaná chyba u souboru test_966118.json: 'NoneType' object has no attribute 'get'\n",
      "Naskytla se neočekávaná chyba u souboru test_966119.json: 'NoneType' object has no attribute 'get'\n",
      "Naskytla se neočekávaná chyba u souboru test_966120.json: 'NoneType' object has no attribute 'get'\n",
      "Naskytla se neočekávaná chyba u souboru test_966121.json: 'NoneType' object has no attribute 'get'\n",
      "Naskytla se neočekávaná chyba u souboru test_966122.json: 'NoneType' object has no attribute 'get'\n",
      "Naskytla se neočekávaná chyba u souboru test_966123.json: 'NoneType' object has no attribute 'get'\n",
      "Naskytla se neočekávaná chyba u souboru test_966124.json: 'NoneType' object has no attribute 'get'\n",
      "Naskytla se neočekávaná chyba u souboru test_966125.json: 'NoneType' object has no attribute 'get'\n",
      "Naskytla se neočekávaná chyba u souboru test_966126.json: 'NoneType' object has no attribute 'get'\n",
      "Naskytla se neočekávaná chyba u souboru test_966127.json: 'NoneType' object has no attribute 'get'\n",
      "Naskytla se neočekávaná chyba u souboru test_966128.json: 'NoneType' object has no attribute 'get'\n",
      "Naskytla se neočekávaná chyba u souboru test_966129.json: 'NoneType' object has no attribute 'get'\n",
      "Naskytla se neočekávaná chyba u souboru test_966130.json: 'NoneType' object has no attribute 'get'\n",
      "Naskytla se neočekávaná chyba u souboru test_966131.json: 'NoneType' object has no attribute 'get'\n",
      "Naskytla se neočekávaná chyba u souboru test_966132.json: 'NoneType' object has no attribute 'get'\n",
      "Naskytla se neočekávaná chyba u souboru test_966133.json: 'NoneType' object has no attribute 'get'\n",
      "Naskytla se neočekávaná chyba u souboru test_966134.json: 'NoneType' object has no attribute 'get'\n",
      "Naskytla se neočekávaná chyba u souboru test_966135.json: 'NoneType' object has no attribute 'get'\n",
      "Naskytla se neočekávaná chyba u souboru test_966136.json: 'NoneType' object has no attribute 'get'\n",
      "Naskytla se neočekávaná chyba u souboru test_966137.json: 'NoneType' object has no attribute 'get'\n",
      "Naskytla se neočekávaná chyba u souboru test_966138.json: 'NoneType' object has no attribute 'get'\n",
      "Naskytla se neočekávaná chyba u souboru test_966139.json: 'NoneType' object has no attribute 'get'\n",
      "Naskytla se neočekávaná chyba u souboru test_966140.json: 'NoneType' object has no attribute 'get'\n",
      "Naskytla se neočekávaná chyba u souboru test_966141.json: 'NoneType' object has no attribute 'get'\n",
      "Naskytla se neočekávaná chyba u souboru test_966142.json: 'NoneType' object has no attribute 'get'\n",
      "Naskytla se neočekávaná chyba u souboru test_966143.json: 'NoneType' object has no attribute 'get'\n",
      "Naskytla se neočekávaná chyba u souboru test_966144.json: 'NoneType' object has no attribute 'get'\n",
      "Naskytla se neočekávaná chyba u souboru test_966145.json: 'NoneType' object has no attribute 'get'\n",
      "Naskytla se neočekávaná chyba u souboru test_966146.json: 'NoneType' object has no attribute 'get'\n",
      "Naskytla se neočekávaná chyba u souboru test_966147.json: 'NoneType' object has no attribute 'get'\n",
      "Naskytla se neočekávaná chyba u souboru test_966148.json: 'NoneType' object has no attribute 'get'\n",
      "Naskytla se neočekávaná chyba u souboru test_966149.json: 'NoneType' object has no attribute 'get'\n",
      "Naskytla se neočekávaná chyba u souboru test_966151.json: 'NoneType' object has no attribute 'get'\n",
      "Naskytla se neočekávaná chyba u souboru test_966152.json: 'NoneType' object has no attribute 'get'\n",
      "Naskytla se neočekávaná chyba u souboru test_966153.json: 'NoneType' object has no attribute 'get'\n",
      "Naskytla se neočekávaná chyba u souboru test_966154.json: 'NoneType' object has no attribute 'get'\n",
      "Naskytla se neočekávaná chyba u souboru test_966155.json: 'NoneType' object has no attribute 'get'\n",
      "Naskytla se neočekávaná chyba u souboru test_966156.json: 'NoneType' object has no attribute 'get'\n",
      "Naskytla se neočekávaná chyba u souboru test_966157.json: 'NoneType' object has no attribute 'get'\n",
      "Naskytla se neočekávaná chyba u souboru test_966158.json: 'NoneType' object has no attribute 'get'\n",
      "Naskytla se neočekávaná chyba u souboru test_966159.json: 'NoneType' object has no attribute 'get'\n",
      "Naskytla se neočekávaná chyba u souboru test_966160.json: 'NoneType' object has no attribute 'get'\n",
      "Naskytla se neočekávaná chyba u souboru test_966161.json: 'NoneType' object has no attribute 'get'\n",
      "Naskytla se neočekávaná chyba u souboru test_966162.json: 'NoneType' object has no attribute 'get'\n",
      "Naskytla se neočekávaná chyba u souboru test_966163.json: 'NoneType' object has no attribute 'get'\n",
      "Naskytla se neočekávaná chyba u souboru test_966164.json: 'NoneType' object has no attribute 'get'\n",
      "Naskytla se neočekávaná chyba u souboru test_966165.json: 'NoneType' object has no attribute 'get'\n",
      "Naskytla se neočekávaná chyba u souboru test_966166.json: 'NoneType' object has no attribute 'get'\n",
      "Naskytla se neočekávaná chyba u souboru test_966167.json: 'NoneType' object has no attribute 'get'\n",
      "Naskytla se neočekávaná chyba u souboru test_966168.json: 'NoneType' object has no attribute 'get'\n",
      "Naskytla se neočekávaná chyba u souboru test_966169.json: 'NoneType' object has no attribute 'get'\n",
      "Naskytla se neočekávaná chyba u souboru test_966170.json: 'NoneType' object has no attribute 'get'\n",
      "Naskytla se neočekávaná chyba u souboru test_966171.json: 'NoneType' object has no attribute 'get'\n",
      "Naskytla se neočekávaná chyba u souboru test_966172.json: 'NoneType' object has no attribute 'get'\n",
      "Naskytla se neočekávaná chyba u souboru test_966173.json: 'NoneType' object has no attribute 'get'\n",
      "Naskytla se neočekávaná chyba u souboru test_966174.json: 'NoneType' object has no attribute 'get'\n",
      "Naskytla se neočekávaná chyba u souboru test_966175.json: 'NoneType' object has no attribute 'get'\n",
      "Naskytla se neočekávaná chyba u souboru test_966176.json: 'NoneType' object has no attribute 'get'\n",
      "Naskytla se neočekávaná chyba u souboru test_966177.json: 'NoneType' object has no attribute 'get'\n",
      "Naskytla se neočekávaná chyba u souboru test_966178.json: 'NoneType' object has no attribute 'get'\n",
      "Naskytla se neočekávaná chyba u souboru test_966179.json: 'NoneType' object has no attribute 'get'\n",
      "Naskytla se neočekávaná chyba u souboru test_966180.json: 'NoneType' object has no attribute 'get'\n",
      "Naskytla se neočekávaná chyba u souboru test_966181.json: 'NoneType' object has no attribute 'get'\n",
      "Naskytla se neočekávaná chyba u souboru test_966182.json: 'NoneType' object has no attribute 'get'\n",
      "Naskytla se neočekávaná chyba u souboru test_966183.json: 'NoneType' object has no attribute 'get'\n",
      "Naskytla se neočekávaná chyba u souboru test_966184.json: 'NoneType' object has no attribute 'get'\n",
      "Naskytla se neočekávaná chyba u souboru test_966185.json: 'NoneType' object has no attribute 'get'\n",
      "Naskytla se neočekávaná chyba u souboru test_966186.json: 'NoneType' object has no attribute 'get'\n",
      "Naskytla se neočekávaná chyba u souboru test_966187.json: 'NoneType' object has no attribute 'get'\n",
      "Naskytla se neočekávaná chyba u souboru test_966188.json: 'NoneType' object has no attribute 'get'\n",
      "Naskytla se neočekávaná chyba u souboru test_966189.json: 'NoneType' object has no attribute 'get'\n",
      "Naskytla se neočekávaná chyba u souboru test_966190.json: 'NoneType' object has no attribute 'get'\n",
      "Naskytla se neočekávaná chyba u souboru test_966191.json: 'NoneType' object has no attribute 'get'\n",
      "Naskytla se neočekávaná chyba u souboru test_966192.json: 'NoneType' object has no attribute 'get'\n",
      "Naskytla se neočekávaná chyba u souboru test_966193.json: 'NoneType' object has no attribute 'get'\n",
      "Naskytla se neočekávaná chyba u souboru test_966194.json: 'NoneType' object has no attribute 'get'\n",
      "Naskytla se neočekávaná chyba u souboru test_966195.json: 'NoneType' object has no attribute 'get'\n",
      "Naskytla se neočekávaná chyba u souboru test_966196.json: 'NoneType' object has no attribute 'get'\n",
      "Naskytla se neočekávaná chyba u souboru test_966197.json: 'NoneType' object has no attribute 'get'\n",
      "Naskytla se neočekávaná chyba u souboru test_966198.json: 'NoneType' object has no attribute 'get'\n",
      "Naskytla se neočekávaná chyba u souboru test_966199.json: 'NoneType' object has no attribute 'get'\n",
      "Naskytla se neočekávaná chyba u souboru test_966294.json: 'NoneType' object has no attribute 'get'\n",
      "Naskytla se neočekávaná chyba u souboru test_966295.json: 'NoneType' object has no attribute 'get'\n",
      "Naskytla se neočekávaná chyba u souboru test_966296.json: 'NoneType' object has no attribute 'get'\n",
      "Naskytla se neočekávaná chyba u souboru test_966297.json: 'NoneType' object has no attribute 'get'\n",
      "Naskytla se neočekávaná chyba u souboru test_966298.json: 'NoneType' object has no attribute 'get'\n",
      "Naskytla se neočekávaná chyba u souboru test_966299.json: 'NoneType' object has no attribute 'get'\n",
      "Naskytla se neočekávaná chyba u souboru test_966531.json: 'NoneType' object has no attribute 'get'\n",
      "Naskytla se neočekávaná chyba u souboru test_966532.json: 'NoneType' object has no attribute 'get'\n",
      "Naskytla se neočekávaná chyba u souboru test_966533.json: 'NoneType' object has no attribute 'get'\n",
      "Naskytla se neočekávaná chyba u souboru test_966534.json: 'NoneType' object has no attribute 'get'\n",
      "Naskytla se neočekávaná chyba u souboru test_966535.json: 'NoneType' object has no attribute 'get'\n",
      "Naskytla se neočekávaná chyba u souboru test_966536.json: 'NoneType' object has no attribute 'get'\n",
      "Naskytla se neočekávaná chyba u souboru test_966537.json: 'NoneType' object has no attribute 'get'\n",
      "Naskytla se neočekávaná chyba u souboru test_966538.json: 'NoneType' object has no attribute 'get'\n",
      "Naskytla se neočekávaná chyba u souboru test_966539.json: 'NoneType' object has no attribute 'get'\n",
      "Naskytla se neočekávaná chyba u souboru test_966540.json: 'NoneType' object has no attribute 'get'\n",
      "Naskytla se neočekávaná chyba u souboru test_966541.json: 'NoneType' object has no attribute 'get'\n",
      "Naskytla se neočekávaná chyba u souboru test_966542.json: 'NoneType' object has no attribute 'get'\n",
      "Naskytla se neočekávaná chyba u souboru test_966543.json: 'NoneType' object has no attribute 'get'\n",
      "Naskytla se neočekávaná chyba u souboru test_966544.json: 'NoneType' object has no attribute 'get'\n",
      "Naskytla se neočekávaná chyba u souboru test_966545.json: 'NoneType' object has no attribute 'get'\n",
      "Naskytla se neočekávaná chyba u souboru test_966546.json: 'NoneType' object has no attribute 'get'\n",
      "Naskytla se neočekávaná chyba u souboru test_966547.json: 'NoneType' object has no attribute 'get'\n",
      "Naskytla se neočekávaná chyba u souboru test_966548.json: 'NoneType' object has no attribute 'get'\n",
      "Naskytla se neočekávaná chyba u souboru test_966549.json: 'NoneType' object has no attribute 'get'\n",
      "Naskytla se neočekávaná chyba u souboru test_967471.json: 'NoneType' object has no attribute 'get'\n",
      "Naskytla se neočekávaná chyba u souboru test_967472.json: 'NoneType' object has no attribute 'get'\n",
      "Naskytla se neočekávaná chyba u souboru test_967473.json: 'NoneType' object has no attribute 'get'\n",
      "Naskytla se neočekávaná chyba u souboru test_967474.json: 'NoneType' object has no attribute 'get'\n",
      "Naskytla se neočekávaná chyba u souboru test_967475.json: 'NoneType' object has no attribute 'get'\n",
      "Naskytla se neočekávaná chyba u souboru test_967476.json: 'NoneType' object has no attribute 'get'\n",
      "Naskytla se neočekávaná chyba u souboru test_967477.json: 'NoneType' object has no attribute 'get'\n",
      "Naskytla se neočekávaná chyba u souboru test_967478.json: 'NoneType' object has no attribute 'get'\n",
      "Naskytla se neočekávaná chyba u souboru test_967479.json: 'NoneType' object has no attribute 'get'\n",
      "Naskytla se neočekávaná chyba u souboru test_967480.json: 'NoneType' object has no attribute 'get'\n",
      "Naskytla se neočekávaná chyba u souboru test_967481.json: 'NoneType' object has no attribute 'get'\n",
      "Naskytla se neočekávaná chyba u souboru test_967482.json: 'NoneType' object has no attribute 'get'\n",
      "Naskytla se neočekávaná chyba u souboru test_967483.json: 'NoneType' object has no attribute 'get'\n",
      "Naskytla se neočekávaná chyba u souboru test_967484.json: 'NoneType' object has no attribute 'get'\n",
      "Naskytla se neočekávaná chyba u souboru test_967485.json: 'NoneType' object has no attribute 'get'\n",
      "Naskytla se neočekávaná chyba u souboru test_967486.json: 'NoneType' object has no attribute 'get'\n",
      "Naskytla se neočekávaná chyba u souboru test_967487.json: 'NoneType' object has no attribute 'get'\n",
      "Naskytla se neočekávaná chyba u souboru test_967488.json: 'NoneType' object has no attribute 'get'\n",
      "Naskytla se neočekávaná chyba u souboru test_967489.json: 'NoneType' object has no attribute 'get'\n",
      "Naskytla se neočekávaná chyba u souboru test_967490.json: 'NoneType' object has no attribute 'get'\n",
      "Naskytla se neočekávaná chyba u souboru test_967491.json: 'NoneType' object has no attribute 'get'\n",
      "Naskytla se neočekávaná chyba u souboru test_967492.json: 'NoneType' object has no attribute 'get'\n",
      "Naskytla se neočekávaná chyba u souboru test_967493.json: 'NoneType' object has no attribute 'get'\n",
      "Naskytla se neočekávaná chyba u souboru test_967494.json: 'NoneType' object has no attribute 'get'\n",
      "Naskytla se neočekávaná chyba u souboru test_967495.json: 'NoneType' object has no attribute 'get'\n",
      "Naskytla se neočekávaná chyba u souboru test_967496.json: 'NoneType' object has no attribute 'get'\n",
      "Naskytla se neočekávaná chyba u souboru test_967497.json: 'NoneType' object has no attribute 'get'\n",
      "Naskytla se neočekávaná chyba u souboru test_967498.json: 'NoneType' object has no attribute 'get'\n",
      "Naskytla se neočekávaná chyba u souboru test_967499.json: 'NoneType' object has no attribute 'get'\n",
      "Naskytla se neočekávaná chyba u souboru test_967509.json: 'NoneType' object has no attribute 'get'\n",
      "Naskytla se neočekávaná chyba u souboru test_967510.json: 'NoneType' object has no attribute 'get'\n",
      "Naskytla se neočekávaná chyba u souboru test_967511.json: 'NoneType' object has no attribute 'get'\n",
      "Naskytla se neočekávaná chyba u souboru test_967512.json: 'NoneType' object has no attribute 'get'\n",
      "Naskytla se neočekávaná chyba u souboru test_967513.json: 'NoneType' object has no attribute 'get'\n",
      "Naskytla se neočekávaná chyba u souboru test_967514.json: 'NoneType' object has no attribute 'get'\n",
      "Naskytla se neočekávaná chyba u souboru test_967515.json: 'NoneType' object has no attribute 'get'\n",
      "Naskytla se neočekávaná chyba u souboru test_967516.json: 'NoneType' object has no attribute 'get'\n",
      "Naskytla se neočekávaná chyba u souboru test_967517.json: 'NoneType' object has no attribute 'get'\n",
      "Naskytla se neočekávaná chyba u souboru test_967518.json: 'NoneType' object has no attribute 'get'\n",
      "Naskytla se neočekávaná chyba u souboru test_967519.json: 'NoneType' object has no attribute 'get'\n",
      "Naskytla se neočekávaná chyba u souboru test_967520.json: 'NoneType' object has no attribute 'get'\n",
      "Naskytla se neočekávaná chyba u souboru test_967521.json: 'NoneType' object has no attribute 'get'\n",
      "Naskytla se neočekávaná chyba u souboru test_967522.json: 'NoneType' object has no attribute 'get'\n",
      "Naskytla se neočekávaná chyba u souboru test_967523.json: 'NoneType' object has no attribute 'get'\n",
      "Naskytla se neočekávaná chyba u souboru test_967524.json: 'NoneType' object has no attribute 'get'\n",
      "Naskytla se neočekávaná chyba u souboru test_967525.json: 'NoneType' object has no attribute 'get'\n",
      "Naskytla se neočekávaná chyba u souboru test_967526.json: 'NoneType' object has no attribute 'get'\n",
      "Naskytla se neočekávaná chyba u souboru test_967527.json: 'NoneType' object has no attribute 'get'\n",
      "Naskytla se neočekávaná chyba u souboru test_967528.json: 'NoneType' object has no attribute 'get'\n",
      "Naskytla se neočekávaná chyba u souboru test_967529.json: 'NoneType' object has no attribute 'get'\n",
      "Naskytla se neočekávaná chyba u souboru test_967530.json: 'NoneType' object has no attribute 'get'\n",
      "Naskytla se neočekávaná chyba u souboru test_967531.json: 'NoneType' object has no attribute 'get'\n",
      "Naskytla se neočekávaná chyba u souboru test_967532.json: 'NoneType' object has no attribute 'get'\n",
      "Naskytla se neočekávaná chyba u souboru test_967533.json: 'NoneType' object has no attribute 'get'\n",
      "Naskytla se neočekávaná chyba u souboru test_967534.json: 'NoneType' object has no attribute 'get'\n",
      "Naskytla se neočekávaná chyba u souboru test_967535.json: 'NoneType' object has no attribute 'get'\n",
      "Naskytla se neočekávaná chyba u souboru test_967536.json: 'NoneType' object has no attribute 'get'\n",
      "Naskytla se neočekávaná chyba u souboru test_967537.json: 'NoneType' object has no attribute 'get'\n",
      "Naskytla se neočekávaná chyba u souboru test_967538.json: 'NoneType' object has no attribute 'get'\n",
      "Naskytla se neočekávaná chyba u souboru test_967539.json: 'NoneType' object has no attribute 'get'\n",
      "Naskytla se neočekávaná chyba u souboru test_967540.json: 'NoneType' object has no attribute 'get'\n",
      "Naskytla se neočekávaná chyba u souboru test_967541.json: 'NoneType' object has no attribute 'get'\n",
      "Naskytla se neočekávaná chyba u souboru test_967542.json: 'NoneType' object has no attribute 'get'\n",
      "Naskytla se neočekávaná chyba u souboru test_967543.json: 'NoneType' object has no attribute 'get'\n",
      "Naskytla se neočekávaná chyba u souboru test_967544.json: 'NoneType' object has no attribute 'get'\n",
      "Naskytla se neočekávaná chyba u souboru test_967545.json: 'NoneType' object has no attribute 'get'\n",
      "Naskytla se neočekávaná chyba u souboru test_967546.json: 'NoneType' object has no attribute 'get'\n",
      "Naskytla se neočekávaná chyba u souboru test_967547.json: 'NoneType' object has no attribute 'get'\n",
      "Naskytla se neočekávaná chyba u souboru test_967548.json: 'NoneType' object has no attribute 'get'\n",
      "Naskytla se neočekávaná chyba u souboru test_967549.json: 'NoneType' object has no attribute 'get'\n",
      "Naskytla se neočekávaná chyba u souboru test_967624.json: 'NoneType' object has no attribute 'get'\n",
      "Naskytla se neočekávaná chyba u souboru test_967625.json: 'NoneType' object has no attribute 'get'\n",
      "Naskytla se neočekávaná chyba u souboru test_967626.json: 'NoneType' object has no attribute 'get'\n",
      "Naskytla se neočekávaná chyba u souboru test_967627.json: 'NoneType' object has no attribute 'get'\n",
      "Naskytla se neočekávaná chyba u souboru test_967628.json: 'NoneType' object has no attribute 'get'\n",
      "Naskytla se neočekávaná chyba u souboru test_967629.json: 'NoneType' object has no attribute 'get'\n",
      "Naskytla se neočekávaná chyba u souboru test_967630.json: 'NoneType' object has no attribute 'get'\n",
      "Naskytla se neočekávaná chyba u souboru test_967631.json: 'NoneType' object has no attribute 'get'\n",
      "Naskytla se neočekávaná chyba u souboru test_967632.json: 'NoneType' object has no attribute 'get'\n",
      "Naskytla se neočekávaná chyba u souboru test_967633.json: 'NoneType' object has no attribute 'get'\n",
      "Naskytla se neočekávaná chyba u souboru test_967634.json: 'NoneType' object has no attribute 'get'\n",
      "Naskytla se neočekávaná chyba u souboru test_967635.json: 'NoneType' object has no attribute 'get'\n",
      "Naskytla se neočekávaná chyba u souboru test_967636.json: 'NoneType' object has no attribute 'get'\n",
      "Naskytla se neočekávaná chyba u souboru test_967637.json: 'NoneType' object has no attribute 'get'\n",
      "Naskytla se neočekávaná chyba u souboru test_967638.json: 'NoneType' object has no attribute 'get'\n",
      "Naskytla se neočekávaná chyba u souboru test_967639.json: 'NoneType' object has no attribute 'get'\n",
      "Naskytla se neočekávaná chyba u souboru test_967640.json: 'NoneType' object has no attribute 'get'\n",
      "Naskytla se neočekávaná chyba u souboru test_967641.json: 'NoneType' object has no attribute 'get'\n",
      "Naskytla se neočekávaná chyba u souboru test_967642.json: 'NoneType' object has no attribute 'get'\n",
      "Naskytla se neočekávaná chyba u souboru test_967643.json: 'NoneType' object has no attribute 'get'\n",
      "Naskytla se neočekávaná chyba u souboru test_967644.json: 'NoneType' object has no attribute 'get'\n",
      "Naskytla se neočekávaná chyba u souboru test_967645.json: 'NoneType' object has no attribute 'get'\n",
      "Naskytla se neočekávaná chyba u souboru test_967646.json: 'NoneType' object has no attribute 'get'\n",
      "Naskytla se neočekávaná chyba u souboru test_967647.json: 'NoneType' object has no attribute 'get'\n",
      "Naskytla se neočekávaná chyba u souboru test_967648.json: 'NoneType' object has no attribute 'get'\n",
      "Naskytla se neočekávaná chyba u souboru test_967649.json: 'NoneType' object has no attribute 'get'\n",
      "\n",
      "Úspěšně načteno a zpracováno:\n",
      "Celkový počet otázek: 65972\n",
      "\n",
      "Schéma DataFrame:\n",
      "Schema({'text_otazky': String, 'moznosti': Struct({'A': String, 'B': String, 'C': String}), 'spravna_odpoved': String, 'body': Int64, 'datum_testu': Date})\n",
      "Test v rozsahu: 2025-09-05 - 2025-06-24\n"
     ]
    },
    {
     "data": {
      "text/plain": [
       "shape: (65_972, 5)\n",
       "┌─────────────────────────────┬─────────────────────────────┬─────────────────┬──────┬─────────────┐\n",
       "│ text_otazky                 ┆ moznosti                    ┆ spravna_odpoved ┆ body ┆ datum_testu │\n",
       "│ ---                         ┆ ---                         ┆ ---             ┆ ---  ┆ ---         │\n",
       "│ str                         ┆ struct[3]                   ┆ str             ┆ i64  ┆ date        │\n",
       "╞═════════════════════════════╪═════════════════════════════╪═════════════════╪══════╪═════════════╡\n",
       "│ Osa zemská je myšlená       ┆ {\"zeměpisné\",\"totožné\",\"mag ┆ A               ┆ 3    ┆ 2025-09-03  │\n",
       "│ přímka s…                   ┆ net…                        ┆                 ┆      ┆             │\n",
       "│ Hlavní příčinou             ┆ {\"rozdílná teplota vzduchu  ┆ B               ┆ 0    ┆ 2025-09-03  │\n",
       "│ atmosférické k…             ┆ ve …                        ┆                 ┆      ┆             │\n",
       "│ Je-li dáván příkaz letadlu  ┆ {\"pojíždění                 ┆ A               ┆ 1    ┆ 2025-09-03  │\n",
       "│ na …                        ┆ povoleno\",\"opusťte…         ┆                 ┆      ┆             │\n",
       "│ Odtržením proudnic          ┆ {\"skokový přechod od        ┆ C               ┆ 0    ┆ 2025-09-03  │\n",
       "│ rozumíme:                   ┆ turbulent…                  ┆                 ┆      ┆             │\n",
       "│ Provádíme levou zatáčku o   ┆ {\"skluzovou                 ┆ C               ┆ 0    ┆ 2025-09-03  │\n",
       "│ nákl…                       ┆ zatáčku\",\"správnou…         ┆                 ┆      ┆             │\n",
       "│ …                           ┆ …                           ┆ …               ┆ …    ┆ …           │\n",
       "│ Údaj v metrech přepočítáte  ┆ {\"(m  3) : 10\",\"(m  3) +    ┆ B               ┆ 0    ┆ 2025-06-25  │\n",
       "│ na …                        ┆ 10%\",…                      ┆                 ┆      ┆             │\n",
       "│ Nejspodnější vrstvu         ┆ {\"mezosféra\",\"troposféra\",\" ┆ B               ┆ 0    ┆ 2025-06-25  │\n",
       "│ atmosféry …                 ┆ str…                        ┆                 ┆      ┆             │\n",
       "│ Vyberte správné tvrzení     ┆ {\"Postižený v bezvědomí     ┆ B               ┆ 0    ┆ 2025-06-25  │\n",
       "│ týkají…                     ┆ násled…                     ┆                 ┆      ┆             │\n",
       "│ Pádová rychlost letadla v   ┆ {\"je vyšší než v přímém     ┆ A               ┆ 0    ┆ 2025-06-25  │\n",
       "│ zatá…                       ┆ ustále…                     ┆                 ┆      ┆             │\n",
       "│ Klouzavost vůči zemi se:    ┆ {\"změní při změně           ┆ B               ┆ 0    ┆ 2025-06-25  │\n",
       "│                             ┆ hmotnosti\",\"…               ┆                 ┆      ┆             │\n",
       "└─────────────────────────────┴─────────────────────────────┴─────────────────┴──────┴─────────────┘"
      ],
      "text/html": [
       "<div><style>\n",
       ".dataframe > thead > tr,\n",
       ".dataframe > tbody > tr {\n",
       "  text-align: right;\n",
       "  white-space: pre-wrap;\n",
       "}\n",
       "</style>\n",
       "<small>shape: (65_972, 5)</small><table border=\"1\" class=\"dataframe\"><thead><tr><th>text_otazky</th><th>moznosti</th><th>spravna_odpoved</th><th>body</th><th>datum_testu</th></tr><tr><td>str</td><td>struct[3]</td><td>str</td><td>i64</td><td>date</td></tr></thead><tbody><tr><td>&quot;Osa zemská je myšlená přímka s…</td><td>{&quot;zeměpisné&quot;,&quot;totožné&quot;,&quot;magnetické&quot;}</td><td>&quot;A&quot;</td><td>3</td><td>2025-09-03</td></tr><tr><td>&quot;Hlavní příčinou atmosférické k…</td><td>{&quot;rozdílná teplota vzduchu ve dne a v noci&quot;,&quot;dostatečný ohřev vzduchu o zemský povrch při instabilním zvrstvení&quot;,&quot;nestejnoměrné zahřívání různě barevného zemského povrchu&quot;}</td><td>&quot;B&quot;</td><td>0</td><td>2025-09-03</td></tr><tr><td>&quot;Je-li dáván příkaz letadlu na …</td><td>{&quot;pojíždění povoleno&quot;,&quot;opusťte přistávací plochu&quot;,&quot;vraťte se na místo odkud jste vyjel&quot;}</td><td>&quot;A&quot;</td><td>1</td><td>2025-09-03</td></tr><tr><td>&quot;Odtržením proudnic rozumíme:&quot;</td><td>{&quot;skokový přechod od turbulentního proudění nad horní plochou křídla k absolutní&quot;,&quot;proudnice opustí profil, po tom co opíšou jeho tvar&quot;,&quot;proud vzduchu přestane sledovat tvar profilu&quot;}</td><td>&quot;C&quot;</td><td>0</td><td>2025-09-03</td></tr><tr><td>&quot;Provádíme levou zatáčku o nákl…</td><td>{&quot;skluzovou zatáčku&quot;,&quot;správnou zatáčku&quot;,&quot;výkluzovou zatáčku&quot;}</td><td>&quot;C&quot;</td><td>0</td><td>2025-09-03</td></tr><tr><td>&hellip;</td><td>&hellip;</td><td>&hellip;</td><td>&hellip;</td><td>&hellip;</td></tr><tr><td>&quot;Údaj v metrech přepočítáte na …</td><td>{&quot;(m&nbsp;&nbsp;3) : 10&quot;,&quot;(m&nbsp;&nbsp;3) + 10%&quot;,&quot;(m : 10)&nbsp;&nbsp;3&quot;}</td><td>&quot;B&quot;</td><td>0</td><td>2025-06-25</td></tr><tr><td>&quot;Nejspodnější vrstvu atmosféry …</td><td>{&quot;mezosféra&quot;,&quot;troposféra&quot;,&quot;stratosféra&quot;}</td><td>&quot;B&quot;</td><td>0</td><td>2025-06-25</td></tr><tr><td>&quot;Vyberte správné tvrzení týkají…</td><td>{&quot;Postižený v bezvědomí následkem úrazu by měl být vždy uložen do polohy na zádech&quot;,&quot;Pokud postižený ve stávající poloze spolehlivě dýchá, ponecháme ho v této poloze.&quot;,&quot;S postiženým v bezvědomí zásadně nehýbeme, abychom eliminovali riziko dalšího&quot;}</td><td>&quot;B&quot;</td><td>0</td><td>2025-06-25</td></tr><tr><td>&quot;Pádová rychlost letadla v zatá…</td><td>{&quot;je vyšší než v přímém ustáleném letu a závisí na náklonu letadla&quot;,&quot;je nižší než v přímém ustáleném letu&quot;,&quot;je konstantní, nesmí být vyšší než 65 km/h&quot;}</td><td>&quot;A&quot;</td><td>0</td><td>2025-06-25</td></tr><tr><td>&quot;Klouzavost vůči zemi se:&quot;</td><td>{&quot;změní při změně hmotnosti&quot;,&quot;změní, fouká-li vítr&quot;,&quot;fouká-li vítr nezmění, protože efektivní nosná plocha zůstává stejná&quot;}</td><td>&quot;B&quot;</td><td>0</td><td>2025-06-25</td></tr></tbody></table></div>"
      ]
     },
     "execution_count": 50,
     "metadata": {},
     "output_type": "execute_result"
    }
   ],
   "execution_count": 50
  },
  {
   "metadata": {
    "ExecuteTime": {
     "end_time": "2025-09-05T14:21:33.663641Z",
     "start_time": "2025-09-05T14:21:33.653286Z"
    }
   },
   "cell_type": "code",
   "source": [
    "# Seskupení podle textu otázky a provedení agregace pro ostatní sloupce\n",
    "df_grouped = df.group_by(\"text_otazky\").agg(\n",
    "    # Spočítáme, kolikrát se každá otázka vyskytla\n",
    "    pl.len().alias(\"pocet_vyskytu\"),\n",
    "\n",
    "    # Pro sloupce, které by měly být pro danou otázku vždy stejné, vezmeme první výskyt\n",
    "    pl.col(\"moznosti\").first().alias(\"moznosti\"),\n",
    "    pl.col(\"spravna_odpoved\").first().alias(\"spravna_odpoved\"),\n",
    "\n",
    "    # Vezmeme MAXIMÁLNÍ hodnotu bodů, abychom se \"zbavili\" nul, pokud existuje i nenulová varianta\n",
    "    pl.col(\"body\").max().alias(\"body\"),\n",
    "\n",
    "    # Zaznamenáme, zda pro danou otázku existovala i varianta s 0 body\n",
    "    (pl.col(\"body\") == 0).any().alias(\"obsahuje_variantu_s_0_body\"),\n",
    "\n",
    "    # Zjistíme datum, kdy se otázka objevila naposledy\n",
    "    pl.col(\"datum_testu\").max().alias(\"posledni_datum_testu\")\n",
    "\n",
    ").sort(\"pocet_vyskytu\", descending=True) # Seřadíme výsledek podle četnosti\n",
    "\n",
    "# Zobrazení výsledného unikátního a agregovaného DataFrame\n",
    "print(\"Byl vytvořen nový DataFrame 'df_grouped' s unikátními otázkami.\")\n",
    "print(f\"Původní počet záznamů: {len(df)}\")\n",
    "print(f\"Nový počet unikátních otázek: {len(df_grouped)}\")\n",
    "\n",
    "df_grouped"
   ],
   "id": "dcbaddbdf4f3b690",
   "outputs": [
    {
     "name": "stdout",
     "output_type": "stream",
     "text": [
      "Byl vytvořen nový DataFrame 'df_grouped' s unikátními otázkami.\n",
      "Původní počet záznamů: 65972\n",
      "Nový počet unikátních otázek: 938\n"
     ]
    },
    {
     "data": {
      "text/plain": [
       "shape: (938, 7)\n",
       "┌───────────────┬───────────────┬──────────────┬──────────────┬──────┬──────────────┬──────────────┐\n",
       "│ text_otazky   ┆ pocet_vyskytu ┆ moznosti     ┆ spravna_odpo ┆ body ┆ obsahuje_var ┆ posledni_dat │\n",
       "│ ---           ┆ ---           ┆ ---          ┆ ved          ┆ ---  ┆ iantu_s_0_bo ┆ um_testu     │\n",
       "│ str           ┆ u32           ┆ struct[3]    ┆ ---          ┆ i64  ┆ dy           ┆ ---          │\n",
       "│               ┆               ┆              ┆ str          ┆      ┆ ---          ┆ date         │\n",
       "│               ┆               ┆              ┆              ┆      ┆ bool         ┆              │\n",
       "╞═══════════════╪═══════════════╪══════════════╪══════════════╪══════╪══════════════╪══════════════╡\n",
       "│ Při           ┆ 732           ┆ {\"dochází k  ┆ B            ┆ 1    ┆ true         ┆ 2025-09-05   │\n",
       "│ laminárním    ┆               ┆ vzájemnému   ┆              ┆      ┆              ┆              │\n",
       "│ proudění:     ┆               ┆ promích…     ┆              ┆      ┆              ┆              │\n",
       "│ Do jaké výšky ┆ 664           ┆ {\"u ULLa do  ┆ C            ┆ 1    ┆ true         ┆ 2025-09-05   │\n",
       "│ lze počítat s ┆               ┆ výšky        ┆              ┆      ┆              ┆              │\n",
       "│ „p…           ┆               ┆ přibližně    ┆              ┆      ┆              ┆              │\n",
       "│               ┆               ┆ 20…          ┆              ┆      ┆              ┆              │\n",
       "│ Zeměkoule je: ┆ 633           ┆ {\"síť souřad ┆ C            ┆ 1    ┆ true         ┆ 2025-09-05   │\n",
       "│               ┆               ┆ nicových     ┆              ┆      ┆              ┆              │\n",
       "│               ┆               ┆ čar\",\"ide…   ┆              ┆      ┆              ┆              │\n",
       "│ Kritický bod  ┆ 515           ┆ {\"místo na   ┆ B            ┆ 1    ┆ true         ┆ 2025-09-05   │\n",
       "│ je:           ┆               ┆ trati kam až ┆              ┆      ┆              ┆              │\n",
       "│               ┆               ┆ letadl…      ┆              ┆      ┆              ┆              │\n",
       "│ Těžiště       ┆ 485           ┆ {\"působiště  ┆ A            ┆ 3    ┆ true         ┆ 2025-09-05   │\n",
       "│ letadla je:   ┆               ┆ tíhové       ┆              ┆      ┆              ┆              │\n",
       "│               ┆               ┆ síly\",\"půso… ┆              ┆      ┆              ┆              │\n",
       "│ …             ┆ …             ┆ …            ┆ …            ┆ …    ┆ …            ┆ …            │\n",
       "│ Nebezpečnými  ┆ 1             ┆ {\"bez ohledu ┆ B            ┆ 0    ┆ true         ┆ 2025-09-05   │\n",
       "│ aerodynamický ┆               ┆ na           ┆              ┆      ┆              ┆              │\n",
       "│ mi j…         ┆               ┆ konstrukci   ┆              ┆      ┆              ┆              │\n",
       "│               ┆               ┆ vrt…         ┆              ┆      ┆              ┆              │\n",
       "│ Při nízkých   ┆ 1             ┆ {\"vlivem     ┆ C            ┆ 3    ┆ false        ┆ 2025-09-05   │\n",
       "│ otáčkách      ┆               ┆ malé         ┆              ┆      ┆              ┆              │\n",
       "│ rotoru za…    ┆               ┆ odstředivé   ┆              ┆      ┆              ┆              │\n",
       "│               ┆               ┆ síly …       ┆              ┆      ┆              ┆              │\n",
       "│ Velkým        ┆ 1             ┆ {\"Nekontrolo ┆ B            ┆ 0    ┆ true         ┆ 2025-08-31   │\n",
       "│ nebezpečím    ┆               ┆ vatelné      ┆              ┆      ┆              ┆              │\n",
       "│ při letu do … ┆               ┆ stoupání o…  ┆              ┆      ┆              ┆              │\n",
       "│ Maximální     ┆ 1             ┆ {\"472,5 kg   ┆ C            ┆ 0    ┆ true         ┆ 2025-08-29   │\n",
       "│ vzletová      ┆               ┆ počet míst   ┆              ┆      ┆              ┆              │\n",
       "│ hmotnost mo…  ┆               ┆ nerozhod…    ┆              ┆      ┆              ┆              │\n",
       "│ Hlavní výhoda ┆ 1             ┆ {\"Tlumí      ┆ A            ┆ 0    ┆ true         ┆ 2025-08-31   │\n",
       "│ proutí v      ┆               ┆ dynamické    ┆              ┆      ┆              ┆              │\n",
       "│ konstru…      ┆               ┆ rázy při     ┆              ┆      ┆              ┆              │\n",
       "│               ┆               ┆ při…         ┆              ┆      ┆              ┆              │\n",
       "└───────────────┴───────────────┴──────────────┴──────────────┴──────┴──────────────┴──────────────┘"
      ],
      "text/html": [
       "<div><style>\n",
       ".dataframe > thead > tr,\n",
       ".dataframe > tbody > tr {\n",
       "  text-align: right;\n",
       "  white-space: pre-wrap;\n",
       "}\n",
       "</style>\n",
       "<small>shape: (938, 7)</small><table border=\"1\" class=\"dataframe\"><thead><tr><th>text_otazky</th><th>pocet_vyskytu</th><th>moznosti</th><th>spravna_odpoved</th><th>body</th><th>obsahuje_variantu_s_0_body</th><th>posledni_datum_testu</th></tr><tr><td>str</td><td>u32</td><td>struct[3]</td><td>str</td><td>i64</td><td>bool</td><td>date</td></tr></thead><tbody><tr><td>&quot;Při laminárním proudění:&quot;</td><td>732</td><td>{&quot;dochází k vzájemnému promíchávání proudnic, ale na konci sledovaného průřezu&quot;,&quot;nedochází k vzájemnému promíchávání proudnic&quot;,&quot;dochází k vzájemnému promíchávání proudnic&quot;}</td><td>&quot;B&quot;</td><td>1</td><td>true</td><td>2025-09-05</td></tr><tr><td>&quot;Do jaké výšky lze počítat s „p…</td><td>664</td><td>{&quot;u ULLa do výšky přibližně 20 m&quot;,&quot;do výšky 1 m&quot;,&quot;asi do výšky jako je polovina rozpětí křídla&quot;}</td><td>&quot;C&quot;</td><td>1</td><td>true</td><td>2025-09-05</td></tr><tr><td>&quot;Zeměkoule je:&quot;</td><td>633</td><td>{&quot;síť souřadnicových čar&quot;,&quot;ideální koule&quot;,&quot;rotační elipsoid na pólech zploštělý&quot;}</td><td>&quot;C&quot;</td><td>1</td><td>true</td><td>2025-09-05</td></tr><tr><td>&quot;Kritický bod je:&quot;</td><td>515</td><td>{&quot;místo na trati kam až letadlo může doletět, aby se za současného stavu paliva mohlo&quot;,&quot;místo na trati plánované, ze kterého je stejná časová vzdálenost do místa startu i do&quot;,&quot;bod na plánované trati nejvíce vzdálený od VBT&quot;}</td><td>&quot;B&quot;</td><td>1</td><td>true</td><td>2025-09-05</td></tr><tr><td>&quot;Těžiště letadla je:&quot;</td><td>485</td><td>{&quot;působiště tíhové síly&quot;,&quot;působiště výsledné aerodynamické síly&quot;,&quot;působiště výsledné aerodynamické síly a tíhové síly&quot;}</td><td>&quot;A&quot;</td><td>3</td><td>true</td><td>2025-09-05</td></tr><tr><td>&hellip;</td><td>&hellip;</td><td>&hellip;</td><td>&hellip;</td><td>&hellip;</td><td>&hellip;</td><td>&hellip;</td></tr><tr><td>&quot;Nebezpečnými aerodynamickými j…</td><td>1</td><td>{&quot;bez ohledu na konstrukci vrtulníku nízké otáčky, vírový prstenec rotoru a ocasní&quot;,&quot;nízké otáčky rotoru, vírový prstenec rotoru a ocasní vrtulky , podchvat, u vrtulníků&quot;,&quot;u vrtulníků schválených do provozu LAA nemohou nastat žádné nebezpečné&quot;}</td><td>&quot;B&quot;</td><td>0</td><td>true</td><td>2025-09-05</td></tr><tr><td>&quot;Při nízkých otáčkách rotoru za…</td><td>1</td><td>{&quot;vlivem malé odstředivé síly , ale ještě dostatečného vztlaku před odtržením proudu&quot;,&quot;k odtržení proudu na listech, u dvoulistých rotorů s polotuhým zavěšením houpavého&quot;,&quot;vlivem malé odstředivé síly a ještě dostatečného vztlaku dojde ke katastrofálnímu&quot;}</td><td>&quot;C&quot;</td><td>3</td><td>false</td><td>2025-09-05</td></tr><tr><td>&quot;Velkým nebezpečím při letu do …</td><td>1</td><td>{&quot;Nekontrolovatelné stoupání obalu&quot;,&quot;Deformace obalu (tzv. „vylití“) a tím ztráta Archimédovy síly následovaná prudkým&quot;,&quot;Deformace obalu a tím náhlé nekontrolovatelné otevření ZVV&quot;}</td><td>&quot;B&quot;</td><td>0</td><td>true</td><td>2025-08-31</td></tr><tr><td>&quot;Maximální vzletová hmotnost mo…</td><td>1</td><td>{&quot;472,5 kg počet míst nerozhoduje&quot;,&quot;600 kg bez omezení&quot;,&quot;475 kg dvoumístného a 315 kg jednomístného&quot;}</td><td>&quot;C&quot;</td><td>0</td><td>true</td><td>2025-08-29</td></tr><tr><td>&quot;Hlavní výhoda proutí v konstru…</td><td>1</td><td>{&quot;Tlumí dynamické rázy při přistání, při opotřebení nevznikají ostré hrany&quot;,&quot;Jednoduchost zpracování&quot;,&quot;Design a cena&quot;}</td><td>&quot;A&quot;</td><td>0</td><td>true</td><td>2025-08-31</td></tr></tbody></table></div>"
      ]
     },
     "execution_count": 51,
     "metadata": {},
     "output_type": "execute_result"
    }
   ],
   "execution_count": 51
  },
  {
   "metadata": {
    "ExecuteTime": {
     "end_time": "2025-09-05T14:21:38.763580Z",
     "start_time": "2025-09-05T14:21:37.507839Z"
    }
   },
   "cell_type": "code",
   "source": [
    "# Zkontrolujeme, zda DataFrame 'question_counts' existuje\n",
    "if 'question_counts' in locals() and question_counts is not None and len(question_counts) > 0:\n",
    "    # Importujeme potřebnou knihovnu pro vizualizaci\n",
    "    import plotly.express as px\n",
    "\n",
    "    # Vybereme prvních 10 nejčastějších otázek (DataFrame je již seřazen)\n",
    "    top_10_questions = question_counts.head(50)\n",
    "\n",
    "    # Vytvoření horizontálního sloupcového grafu\n",
    "    # Tento typ grafu je ideální pro zobrazení dlouhých textových popisků\n",
    "    fig = px.bar(\n",
    "        top_10_questions,\n",
    "        x=\"pocet_vyskytu\",\n",
    "        y=\"text_otazky\",\n",
    "        orientation='h', # Nastavení horizontální orientace\n",
    "        title=f\"Top 50 nejčastějších otázek v {len(os.listdir(\"parsed_tests\"))} testech\",\n",
    "        labels={\n",
    "            \"pocet_vyskytu\": \"Počet výskytů v testech\",\n",
    "            \"text_otazky\": \"Text otázky\"\n",
    "        },\n",
    "        text=\"pocet_vyskytu\" # Zobrazí hodnoty přímo na sloupcích\n",
    "    )\n",
    "\n",
    "    # Vylepšení vzhledu grafu\n",
    "    # Seřadíme osu Y tak, aby otázka s nejvyšším počtem byla nahoře\n",
    "    fig.update_layout(\n",
    "        yaxis={'categoryorder':'total ascending'},\n",
    "        height=600 # Zvětšíme výšku grafu, aby se texty vešly\n",
    "    )\n",
    "\n",
    "    # Zobrazení grafu\n",
    "    fig.show()\n",
    "    fig.to_image(format=\"png\")\n",
    "else:\n",
    "    print(\"DataFrame 'question_counts' neexistuje nebo je prázdný. Spusťte nejprve buňku pro seskupení otázek.\")"
   ],
   "id": "1c460bc77fd20134",
   "outputs": [
    {
     "data": {
      "application/vnd.plotly.v1+json": {
       "data": [
        {
         "hovertemplate": "Počet výskytů v testech=%{text}<br>Text otázky=%{y}<extra></extra>",
         "legendgroup": "",
         "marker": {
          "color": "#636efa",
          "pattern": {
           "shape": ""
          }
         },
         "name": "",
         "orientation": "h",
         "showlegend": false,
         "text": {
          "dtype": "f8",
          "bdata": "AAAAAAAAOkAAAAAAAIBQQAAAAAAAgFxAAAAAAAAAO0AAAAAAAAAxQAAAAAAAAGNAAAAAAACAS0AAAAAAAGBhQAAAAAAAADdAAAAAAADAUEAAAAAAAAA8QAAAAAAAADVAAAAAAAAARkAAAAAAAAAoQAAAAAAAAD5AAAAAAAAAMUAAAAAAAAAzQAAAAAAAADxAAAAAAAAAMEAAAAAAAAA4QAAAAAAAAC5AAAAAAAAAOkAAAAAAAABBQAAAAAAAADhAAAAAAAAA8D8AAAAAAAAoQAAAAAAAAPA/AAAAAAAALEAAAAAAAAAcQAAAAAAAACRAAAAAAACARUAAAAAAAAA9QAAAAAAAACxAAAAAAAAAAEAAAAAAAABAQAAAAAAAgE5AAAAAAACAQkAAAAAAAABNQAAAAAAAADNAAAAAAADAVEAAAAAAAAAqQAAAAAAAAEZAAAAAAAAAKEAAAAAAAEBYQAAAAAAAADdAAAAAAAAAOkAAAAAAAADwPwAAAAAAQFVAAAAAAAAAMEAAAAAAAAAzQA=="
         },
         "textposition": "auto",
         "x": {
          "dtype": "u4",
          "bdata": "GgAAAEIAAAByAAAAGwAAABEAAACYAAAANwAAAIsAAAAXAAAAQwAAABwAAAAVAAAALAAAAAwAAAAeAAAAEQAAABMAAAAcAAAAEAAAABgAAAAPAAAAGgAAACIAAAAYAAAAAQAAAAwAAAABAAAADgAAAAcAAAAKAAAAKwAAAB0AAAAOAAAAAgAAACAAAAA9AAAAJQAAADoAAAATAAAAUwAAAA0AAAAsAAAADAAAAGEAAAAXAAAAGgAAAAEAAABVAAAAEAAAABMAAAA="
         },
         "xaxis": "x",
         "y": [
          "Zvýšená netěsnost palivového potrubí mezi nádrží a nízkotlakým čerpadlem se projeví:",
          "Omezený prostor (LK R) je prostor, který pilot:",
          "Při zvětšování úhlu náběhu:",
          "Jaké letové a navigační přístroje musí být zabudovány v ULL či MZK?",
          "Část cyklóny mezi teplou a studenou frontou se jmenuje:",
          "Horizontální červená čtvercová deska se žlutými úhlopříčkami vyložená na návěstní ploše",
          "Malá kružnice je:",
          "Je-li dáván příkaz letadlu na zemi orgánem letištní služby řízení světelným návěstím, potom",
          "Slot je:",
          "Vzdušný prostor TRA GA je třídy:",
          "Každý „letoun“ vyhovující definici pojmu „letoun“ má tyto hlavní části",
          "Ve vzdušném prostoru třídy G pod 3000 ft (900 m) AMSL je minimální dohlednost a vzdálenost",
          "Přejde-li letadlo s pevnou vrtulí do klesání bez ubrání přípusti motoru potom:",
          "Provádíme levou zatáčku o náklonu 30 ° a kulička příčného sklonoměru je vpravo od vodících",
          "Srážky vypadávající z oblačnosti typu Cb - cumulonimbus, jsou charakteru:",
          "Technickou prohlídku SLZ pro prodloužení platnosti technického průkazu provádí:",
          "Letí-li dvě letadla na protínajících se tratích v přibližně stejné hladině, musí se letadlo, které má",
          "Údaj v metrech přepočítáte na údaj ve stopách přibližně (foot, zkr.ft)",
          "Změna skupenství voda – vodní pára se nazývá:",
          "Základní příčinou vzniku mechanické turbulence je:",
          "Jaké meteorologické podmínky lze očekávat v mírných zeměpisných šířkách v létě nad",
          "Barometrický výškoměr pracuje na základě",
          "Které bouřky postupují kupředu nejrychleji?",
          "Tlaková výše – anticyklona – je oblastí:",
          "Minimální dosažená výška při vzletu MZK s max. vzlet. hmotností musí být:",
          "Které základní parametry a jevy určují počasí uvnitř vzduchové hmoty:",
          "Jaký druh odporu hraje při obtékání vrchlíku PK zásadní roli?",
          "Řízení letadel je:",
          "Co znamená zkratka SLZ",
          "Zhuštěné isobary na synoptické mapě značí:",
          "Vychýlením řídící páky vlevo se:",
          "Kolik souřadných os má letoun a jak se nazývají ?",
          "Hlavními nosnými členy přenášejícími ohyb u nosníkových křídel jsou:",
          "Je-li v signální (návěstní) ploše nebo na konci vzletové a přistávací dráhy a nebo na pásu v",
          "Úhel nastavení za letu stavitelné vrtule v cestovním režimu letu je:",
          "Proč je při přistání velmi nebezpečné již vysunuté vztlakové klapky znovu zasunout?",
          "Pojíždí-li dvě letadla proti nebo přibližně proti sobě, piloti obou letadel jsou povinni zastavit,",
          "Pilot letadla vybaveného radiostanicí proti němuž je zakročováno je povinen na tísňové",
          "Technický průkaz je doklad vydaný LAA ČR, kterým se potvrzuje, že letadlo konkrétní",
          "Platný pilotní průkaz musí mít pilot u sebe:",
          "Vítr významně ovlivňuje letecký provoz:",
          "Tlaková níže – cyklona – je oblastí:",
          "Vertikální mohutnost troposféry je nejmenší:",
          "Letí-li letadlo klouzavým letem při takovém úhlu náběhu, že jeho klouzavost je např. 10, pak to",
          "Motor je vždy uložen do draku letounu:",
          "Mezi povinnosti velitele letadla/SLZ mimo jiné patří:",
          "Zmenší-li se vztlak na rotoru, otáčejícím se v autorotačním režimu, potom se otáčky rotoru:",
          "Srovnávací navigace spočívá v:",
          "Nečistoty na nosných plochách aerodynamické a letové vlastnosti",
          "Přistání na vodní hladině provádí pilot PK"
         ],
         "yaxis": "y",
         "type": "bar"
        }
       ],
       "layout": {
        "template": {
         "data": {
          "histogram2dcontour": [
           {
            "type": "histogram2dcontour",
            "colorbar": {
             "outlinewidth": 0,
             "ticks": ""
            },
            "colorscale": [
             [
              0.0,
              "#0d0887"
             ],
             [
              0.1111111111111111,
              "#46039f"
             ],
             [
              0.2222222222222222,
              "#7201a8"
             ],
             [
              0.3333333333333333,
              "#9c179e"
             ],
             [
              0.4444444444444444,
              "#bd3786"
             ],
             [
              0.5555555555555556,
              "#d8576b"
             ],
             [
              0.6666666666666666,
              "#ed7953"
             ],
             [
              0.7777777777777778,
              "#fb9f3a"
             ],
             [
              0.8888888888888888,
              "#fdca26"
             ],
             [
              1.0,
              "#f0f921"
             ]
            ]
           }
          ],
          "choropleth": [
           {
            "type": "choropleth",
            "colorbar": {
             "outlinewidth": 0,
             "ticks": ""
            }
           }
          ],
          "histogram2d": [
           {
            "type": "histogram2d",
            "colorbar": {
             "outlinewidth": 0,
             "ticks": ""
            },
            "colorscale": [
             [
              0.0,
              "#0d0887"
             ],
             [
              0.1111111111111111,
              "#46039f"
             ],
             [
              0.2222222222222222,
              "#7201a8"
             ],
             [
              0.3333333333333333,
              "#9c179e"
             ],
             [
              0.4444444444444444,
              "#bd3786"
             ],
             [
              0.5555555555555556,
              "#d8576b"
             ],
             [
              0.6666666666666666,
              "#ed7953"
             ],
             [
              0.7777777777777778,
              "#fb9f3a"
             ],
             [
              0.8888888888888888,
              "#fdca26"
             ],
             [
              1.0,
              "#f0f921"
             ]
            ]
           }
          ],
          "heatmap": [
           {
            "type": "heatmap",
            "colorbar": {
             "outlinewidth": 0,
             "ticks": ""
            },
            "colorscale": [
             [
              0.0,
              "#0d0887"
             ],
             [
              0.1111111111111111,
              "#46039f"
             ],
             [
              0.2222222222222222,
              "#7201a8"
             ],
             [
              0.3333333333333333,
              "#9c179e"
             ],
             [
              0.4444444444444444,
              "#bd3786"
             ],
             [
              0.5555555555555556,
              "#d8576b"
             ],
             [
              0.6666666666666666,
              "#ed7953"
             ],
             [
              0.7777777777777778,
              "#fb9f3a"
             ],
             [
              0.8888888888888888,
              "#fdca26"
             ],
             [
              1.0,
              "#f0f921"
             ]
            ]
           }
          ],
          "contourcarpet": [
           {
            "type": "contourcarpet",
            "colorbar": {
             "outlinewidth": 0,
             "ticks": ""
            }
           }
          ],
          "contour": [
           {
            "type": "contour",
            "colorbar": {
             "outlinewidth": 0,
             "ticks": ""
            },
            "colorscale": [
             [
              0.0,
              "#0d0887"
             ],
             [
              0.1111111111111111,
              "#46039f"
             ],
             [
              0.2222222222222222,
              "#7201a8"
             ],
             [
              0.3333333333333333,
              "#9c179e"
             ],
             [
              0.4444444444444444,
              "#bd3786"
             ],
             [
              0.5555555555555556,
              "#d8576b"
             ],
             [
              0.6666666666666666,
              "#ed7953"
             ],
             [
              0.7777777777777778,
              "#fb9f3a"
             ],
             [
              0.8888888888888888,
              "#fdca26"
             ],
             [
              1.0,
              "#f0f921"
             ]
            ]
           }
          ],
          "surface": [
           {
            "type": "surface",
            "colorbar": {
             "outlinewidth": 0,
             "ticks": ""
            },
            "colorscale": [
             [
              0.0,
              "#0d0887"
             ],
             [
              0.1111111111111111,
              "#46039f"
             ],
             [
              0.2222222222222222,
              "#7201a8"
             ],
             [
              0.3333333333333333,
              "#9c179e"
             ],
             [
              0.4444444444444444,
              "#bd3786"
             ],
             [
              0.5555555555555556,
              "#d8576b"
             ],
             [
              0.6666666666666666,
              "#ed7953"
             ],
             [
              0.7777777777777778,
              "#fb9f3a"
             ],
             [
              0.8888888888888888,
              "#fdca26"
             ],
             [
              1.0,
              "#f0f921"
             ]
            ]
           }
          ],
          "mesh3d": [
           {
            "type": "mesh3d",
            "colorbar": {
             "outlinewidth": 0,
             "ticks": ""
            }
           }
          ],
          "scatter": [
           {
            "fillpattern": {
             "fillmode": "overlay",
             "size": 10,
             "solidity": 0.2
            },
            "type": "scatter"
           }
          ],
          "parcoords": [
           {
            "type": "parcoords",
            "line": {
             "colorbar": {
              "outlinewidth": 0,
              "ticks": ""
             }
            }
           }
          ],
          "scatterpolargl": [
           {
            "type": "scatterpolargl",
            "marker": {
             "colorbar": {
              "outlinewidth": 0,
              "ticks": ""
             }
            }
           }
          ],
          "bar": [
           {
            "error_x": {
             "color": "#2a3f5f"
            },
            "error_y": {
             "color": "#2a3f5f"
            },
            "marker": {
             "line": {
              "color": "#E5ECF6",
              "width": 0.5
             },
             "pattern": {
              "fillmode": "overlay",
              "size": 10,
              "solidity": 0.2
             }
            },
            "type": "bar"
           }
          ],
          "scattergeo": [
           {
            "type": "scattergeo",
            "marker": {
             "colorbar": {
              "outlinewidth": 0,
              "ticks": ""
             }
            }
           }
          ],
          "scatterpolar": [
           {
            "type": "scatterpolar",
            "marker": {
             "colorbar": {
              "outlinewidth": 0,
              "ticks": ""
             }
            }
           }
          ],
          "histogram": [
           {
            "marker": {
             "pattern": {
              "fillmode": "overlay",
              "size": 10,
              "solidity": 0.2
             }
            },
            "type": "histogram"
           }
          ],
          "scattergl": [
           {
            "type": "scattergl",
            "marker": {
             "colorbar": {
              "outlinewidth": 0,
              "ticks": ""
             }
            }
           }
          ],
          "scatter3d": [
           {
            "type": "scatter3d",
            "line": {
             "colorbar": {
              "outlinewidth": 0,
              "ticks": ""
             }
            },
            "marker": {
             "colorbar": {
              "outlinewidth": 0,
              "ticks": ""
             }
            }
           }
          ],
          "scattermap": [
           {
            "type": "scattermap",
            "marker": {
             "colorbar": {
              "outlinewidth": 0,
              "ticks": ""
             }
            }
           }
          ],
          "scattermapbox": [
           {
            "type": "scattermapbox",
            "marker": {
             "colorbar": {
              "outlinewidth": 0,
              "ticks": ""
             }
            }
           }
          ],
          "scatterternary": [
           {
            "type": "scatterternary",
            "marker": {
             "colorbar": {
              "outlinewidth": 0,
              "ticks": ""
             }
            }
           }
          ],
          "scattercarpet": [
           {
            "type": "scattercarpet",
            "marker": {
             "colorbar": {
              "outlinewidth": 0,
              "ticks": ""
             }
            }
           }
          ],
          "carpet": [
           {
            "aaxis": {
             "endlinecolor": "#2a3f5f",
             "gridcolor": "white",
             "linecolor": "white",
             "minorgridcolor": "white",
             "startlinecolor": "#2a3f5f"
            },
            "baxis": {
             "endlinecolor": "#2a3f5f",
             "gridcolor": "white",
             "linecolor": "white",
             "minorgridcolor": "white",
             "startlinecolor": "#2a3f5f"
            },
            "type": "carpet"
           }
          ],
          "table": [
           {
            "cells": {
             "fill": {
              "color": "#EBF0F8"
             },
             "line": {
              "color": "white"
             }
            },
            "header": {
             "fill": {
              "color": "#C8D4E3"
             },
             "line": {
              "color": "white"
             }
            },
            "type": "table"
           }
          ],
          "barpolar": [
           {
            "marker": {
             "line": {
              "color": "#E5ECF6",
              "width": 0.5
             },
             "pattern": {
              "fillmode": "overlay",
              "size": 10,
              "solidity": 0.2
             }
            },
            "type": "barpolar"
           }
          ],
          "pie": [
           {
            "automargin": true,
            "type": "pie"
           }
          ]
         },
         "layout": {
          "autotypenumbers": "strict",
          "colorway": [
           "#636efa",
           "#EF553B",
           "#00cc96",
           "#ab63fa",
           "#FFA15A",
           "#19d3f3",
           "#FF6692",
           "#B6E880",
           "#FF97FF",
           "#FECB52"
          ],
          "font": {
           "color": "#2a3f5f"
          },
          "hovermode": "closest",
          "hoverlabel": {
           "align": "left"
          },
          "paper_bgcolor": "white",
          "plot_bgcolor": "#E5ECF6",
          "polar": {
           "bgcolor": "#E5ECF6",
           "angularaxis": {
            "gridcolor": "white",
            "linecolor": "white",
            "ticks": ""
           },
           "radialaxis": {
            "gridcolor": "white",
            "linecolor": "white",
            "ticks": ""
           }
          },
          "ternary": {
           "bgcolor": "#E5ECF6",
           "aaxis": {
            "gridcolor": "white",
            "linecolor": "white",
            "ticks": ""
           },
           "baxis": {
            "gridcolor": "white",
            "linecolor": "white",
            "ticks": ""
           },
           "caxis": {
            "gridcolor": "white",
            "linecolor": "white",
            "ticks": ""
           }
          },
          "coloraxis": {
           "colorbar": {
            "outlinewidth": 0,
            "ticks": ""
           }
          },
          "colorscale": {
           "sequential": [
            [
             0.0,
             "#0d0887"
            ],
            [
             0.1111111111111111,
             "#46039f"
            ],
            [
             0.2222222222222222,
             "#7201a8"
            ],
            [
             0.3333333333333333,
             "#9c179e"
            ],
            [
             0.4444444444444444,
             "#bd3786"
            ],
            [
             0.5555555555555556,
             "#d8576b"
            ],
            [
             0.6666666666666666,
             "#ed7953"
            ],
            [
             0.7777777777777778,
             "#fb9f3a"
            ],
            [
             0.8888888888888888,
             "#fdca26"
            ],
            [
             1.0,
             "#f0f921"
            ]
           ],
           "sequentialminus": [
            [
             0.0,
             "#0d0887"
            ],
            [
             0.1111111111111111,
             "#46039f"
            ],
            [
             0.2222222222222222,
             "#7201a8"
            ],
            [
             0.3333333333333333,
             "#9c179e"
            ],
            [
             0.4444444444444444,
             "#bd3786"
            ],
            [
             0.5555555555555556,
             "#d8576b"
            ],
            [
             0.6666666666666666,
             "#ed7953"
            ],
            [
             0.7777777777777778,
             "#fb9f3a"
            ],
            [
             0.8888888888888888,
             "#fdca26"
            ],
            [
             1.0,
             "#f0f921"
            ]
           ],
           "diverging": [
            [
             0,
             "#8e0152"
            ],
            [
             0.1,
             "#c51b7d"
            ],
            [
             0.2,
             "#de77ae"
            ],
            [
             0.3,
             "#f1b6da"
            ],
            [
             0.4,
             "#fde0ef"
            ],
            [
             0.5,
             "#f7f7f7"
            ],
            [
             0.6,
             "#e6f5d0"
            ],
            [
             0.7,
             "#b8e186"
            ],
            [
             0.8,
             "#7fbc41"
            ],
            [
             0.9,
             "#4d9221"
            ],
            [
             1,
             "#276419"
            ]
           ]
          },
          "xaxis": {
           "gridcolor": "white",
           "linecolor": "white",
           "ticks": "",
           "title": {
            "standoff": 15
           },
           "zerolinecolor": "white",
           "automargin": true,
           "zerolinewidth": 2
          },
          "yaxis": {
           "gridcolor": "white",
           "linecolor": "white",
           "ticks": "",
           "title": {
            "standoff": 15
           },
           "zerolinecolor": "white",
           "automargin": true,
           "zerolinewidth": 2
          },
          "scene": {
           "xaxis": {
            "backgroundcolor": "#E5ECF6",
            "gridcolor": "white",
            "linecolor": "white",
            "showbackground": true,
            "ticks": "",
            "zerolinecolor": "white",
            "gridwidth": 2
           },
           "yaxis": {
            "backgroundcolor": "#E5ECF6",
            "gridcolor": "white",
            "linecolor": "white",
            "showbackground": true,
            "ticks": "",
            "zerolinecolor": "white",
            "gridwidth": 2
           },
           "zaxis": {
            "backgroundcolor": "#E5ECF6",
            "gridcolor": "white",
            "linecolor": "white",
            "showbackground": true,
            "ticks": "",
            "zerolinecolor": "white",
            "gridwidth": 2
           }
          },
          "shapedefaults": {
           "line": {
            "color": "#2a3f5f"
           }
          },
          "annotationdefaults": {
           "arrowcolor": "#2a3f5f",
           "arrowhead": 0,
           "arrowwidth": 1
          },
          "geo": {
           "bgcolor": "white",
           "landcolor": "#E5ECF6",
           "subunitcolor": "white",
           "showland": true,
           "showlakes": true,
           "lakecolor": "white"
          },
          "title": {
           "x": 0.05
          },
          "mapbox": {
           "style": "light"
          }
         }
        },
        "xaxis": {
         "anchor": "y",
         "domain": [
          0.0,
          1.0
         ],
         "title": {
          "text": "Počet výskytů v testech"
         }
        },
        "yaxis": {
         "anchor": "x",
         "domain": [
          0.0,
          1.0
         ],
         "title": {
          "text": "Text otázky"
         },
         "categoryorder": "total ascending"
        },
        "legend": {
         "tracegroupgap": 0
        },
        "title": {
         "text": "Top 50 nejčastějších otázek v 1821 testech"
        },
        "barmode": "relative",
        "height": 600
       },
       "config": {
        "plotlyServerURL": "https://plot.ly"
       }
      }
     },
     "metadata": {},
     "output_type": "display_data"
    }
   ],
   "execution_count": 52
  },
  {
   "metadata": {
    "ExecuteTime": {
     "end_time": "2025-09-05T14:21:44.974101Z",
     "start_time": "2025-09-05T14:21:44.970535Z"
    }
   },
   "cell_type": "code",
   "source": [
    " # filter where points is 0\n",
    "df_grouped.filter(pl.col(\"body\") == 0).select([\n",
    "    pl.col(\"text_otazky\"),\n",
    "    pl.col(\"spravna_odpoved\"),\n",
    "    pl.col(\"moznosti\")\n",
    "]).count()"
   ],
   "id": "ba0d8ee81e835a28",
   "outputs": [
    {
     "data": {
      "text/plain": [
       "shape: (1, 3)\n",
       "┌─────────────┬─────────────────┬──────────┐\n",
       "│ text_otazky ┆ spravna_odpoved ┆ moznosti │\n",
       "│ ---         ┆ ---             ┆ ---      │\n",
       "│ u32         ┆ u32             ┆ u32      │\n",
       "╞═════════════╪═════════════════╪══════════╡\n",
       "│ 41          ┆ 41              ┆ 41       │\n",
       "└─────────────┴─────────────────┴──────────┘"
      ],
      "text/html": [
       "<div><style>\n",
       ".dataframe > thead > tr,\n",
       ".dataframe > tbody > tr {\n",
       "  text-align: right;\n",
       "  white-space: pre-wrap;\n",
       "}\n",
       "</style>\n",
       "<small>shape: (1, 3)</small><table border=\"1\" class=\"dataframe\"><thead><tr><th>text_otazky</th><th>spravna_odpoved</th><th>moznosti</th></tr><tr><td>u32</td><td>u32</td><td>u32</td></tr></thead><tbody><tr><td>41</td><td>41</td><td>41</td></tr></tbody></table></div>"
      ]
     },
     "execution_count": 53,
     "metadata": {},
     "output_type": "execute_result"
    }
   ],
   "execution_count": 53
  },
  {
   "metadata": {
    "ExecuteTime": {
     "end_time": "2025-09-05T14:10:30.108709Z",
     "start_time": "2025-09-05T14:10:30.107408Z"
    }
   },
   "cell_type": "code",
   "source": "",
   "id": "e74e9b38b9f977eb",
   "outputs": [],
   "execution_count": null
  }
 ],
 "metadata": {
  "kernelspec": {
   "display_name": "Python 3",
   "language": "python",
   "name": "python3"
  },
  "language_info": {
   "codemirror_mode": {
    "name": "ipython",
    "version": 2
   },
   "file_extension": ".py",
   "mimetype": "text/x-python",
   "name": "python",
   "nbconvert_exporter": "python",
   "pygments_lexer": "ipython2",
   "version": "2.7.6"
  }
 },
 "nbformat": 4,
 "nbformat_minor": 5
}
